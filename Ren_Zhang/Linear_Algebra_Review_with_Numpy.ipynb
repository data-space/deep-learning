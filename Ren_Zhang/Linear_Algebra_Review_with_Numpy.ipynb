{
 "cells": [
  {
   "cell_type": "markdown",
   "metadata": {},
   "source": [
    "# Linear Algebra Review with Numpy\n",
    "\n",
    "author: Ren Zhang (ryanzjlib@gmail.com)\n",
    "\n",
    "I am using python 2.7, but i am writing in a way that hopefully it will be compatable with python 3\n",
    "\n",
    "The purpose of this notebook is to help you get a refresher on ensenssial linear algebra with numpy"
   ]
  },
  {
   "cell_type": "code",
   "execution_count": 1,
   "metadata": {
    "collapsed": true
   },
   "outputs": [],
   "source": [
    "from __future__ import print_function\n",
    "from __future__ import division\n",
    "\n",
    "# load numpy library\n",
    "import numpy as np"
   ]
  },
  {
   "cell_type": "markdown",
   "metadata": {},
   "source": [
    "## Create Matrix and Vector"
   ]
  },
  {
   "cell_type": "code",
   "execution_count": 2,
   "metadata": {
    "collapsed": false
   },
   "outputs": [
    {
     "name": "stdout",
     "output_type": "stream",
     "text": [
      "[[1 2]\n",
      " [3 4]\n",
      " [5 6]\n",
      " [7 8]]\n",
      "(4L, 2L)\n"
     ]
    }
   ],
   "source": [
    "# A is a 4 by 2 matrix\n",
    "A = np.array([[1,2],\n",
    "              [3,4],\n",
    "              [5,6],\n",
    "              [7,8]])\n",
    "\n",
    "print(A)\n",
    "print(A.shape)"
   ]
  },
  {
   "cell_type": "code",
   "execution_count": 3,
   "metadata": {
    "collapsed": false
   },
   "outputs": [
    {
     "name": "stdout",
     "output_type": "stream",
     "text": [
      "[[8 7]\n",
      " [6 5]\n",
      " [4 3]\n",
      " [2 1]]\n",
      "(4L, 2L)\n"
     ]
    }
   ],
   "source": [
    "# B is a 4 by 2 matrix\n",
    "B = np.array([[8,7],[6,5],[4,3],[2,1]])\n",
    "\n",
    "print(B)\n",
    "print(B.shape)"
   ]
  },
  {
   "cell_type": "code",
   "execution_count": 4,
   "metadata": {
    "collapsed": false
   },
   "outputs": [
    {
     "name": "stdout",
     "output_type": "stream",
     "text": [
      "[[2]\n",
      " [1]]\n",
      "(2L, 1L)\n"
     ]
    }
   ],
   "source": [
    "# v is a column vector\n",
    "v = np.array([2,1]).reshape(2,1)\n",
    "\n",
    "print(v)\n",
    "print(v.shape)"
   ]
  },
  {
   "cell_type": "markdown",
   "metadata": {},
   "source": [
    "## Transpose"
   ]
  },
  {
   "cell_type": "code",
   "execution_count": 5,
   "metadata": {
    "collapsed": false
   },
   "outputs": [
    {
     "name": "stdout",
     "output_type": "stream",
     "text": [
      "[[1 3 5 7]\n",
      " [2 4 6 8]]\n",
      "(2L, 4L)\n",
      "[[1 3 5 7]\n",
      " [2 4 6 8]]\n"
     ]
    }
   ],
   "source": [
    "print(A.T)\n",
    "print(A.T.shape)\n",
    "print(np.transpose(A))"
   ]
  },
  {
   "cell_type": "code",
   "execution_count": 6,
   "metadata": {
    "collapsed": false
   },
   "outputs": [
    {
     "name": "stdout",
     "output_type": "stream",
     "text": [
      "[[2 1]]\n",
      "(1L, 2L)\n",
      "[[2 1]]\n"
     ]
    }
   ],
   "source": [
    "print(v.T)\n",
    "print(v.T.shape)\n",
    "print(np.transpose(v))"
   ]
  },
  {
   "cell_type": "code",
   "execution_count": 7,
   "metadata": {
    "collapsed": false
   },
   "outputs": [
    {
     "name": "stdout",
     "output_type": "stream",
     "text": [
      "[[1 2]\n",
      " [3 4]\n",
      " [5 6]\n",
      " [7 8]]\n",
      "[[1 2]\n",
      " [3 4]\n",
      " [5 6]\n",
      " [7 8]]\n"
     ]
    }
   ],
   "source": [
    "# the transpose of transpose is the original\n",
    "print(np.transpose(np.transpose(A)))\n",
    "print(A.T.T)"
   ]
  },
  {
   "cell_type": "markdown",
   "metadata": {},
   "source": [
    "## Calculations"
   ]
  },
  {
   "cell_type": "code",
   "execution_count": 8,
   "metadata": {
    "collapsed": false
   },
   "outputs": [
    {
     "name": "stdout",
     "output_type": "stream",
     "text": [
      "[[9 9]\n",
      " [9 9]\n",
      " [9 9]\n",
      " [9 9]]\n",
      "[[9 9]\n",
      " [9 9]\n",
      " [9 9]\n",
      " [9 9]]\n"
     ]
    }
   ],
   "source": [
    "# matrix and matrix addition, element wise\n",
    "print(A + B)\n",
    "print(np.add(A, B))"
   ]
  },
  {
   "cell_type": "markdown",
   "metadata": {},
   "source": [
    "### Broadcast"
   ]
  },
  {
   "cell_type": "code",
   "execution_count": 9,
   "metadata": {
    "collapsed": false
   },
   "outputs": [
    {
     "name": "stdout",
     "output_type": "stream",
     "text": [
      "[[ 5  6]\n",
      " [ 7  8]\n",
      " [ 9 10]\n",
      " [11 12]]\n"
     ]
    }
   ],
   "source": [
    "# matrix and scalar addition, broadcasted\n",
    "print(4 + A)"
   ]
  },
  {
   "cell_type": "code",
   "execution_count": 10,
   "metadata": {
    "collapsed": false
   },
   "outputs": [
    {
     "name": "stdout",
     "output_type": "stream",
     "text": [
      "[[3 3]\n",
      " [5 5]\n",
      " [7 7]\n",
      " [9 9]]\n"
     ]
    }
   ],
   "source": [
    "# matrix and vector addition, \n",
    "# the vector is broadcasted to add to each row of matrix\n",
    "# A is 4 by 2 vector is 2 by 1\n",
    "print(A+v.T)"
   ]
  },
  {
   "cell_type": "markdown",
   "metadata": {},
   "source": [
    "### Multiplication  "
   ]
  },
  {
   "cell_type": "code",
   "execution_count": 11,
   "metadata": {
    "collapsed": false
   },
   "outputs": [
    {
     "name": "stdout",
     "output_type": "stream",
     "text": [
      "[[ 8 14]\n",
      " [18 20]\n",
      " [20 18]\n",
      " [14  8]]\n"
     ]
    }
   ],
   "source": [
    "# element wise matrix multiplication exists\n",
    "print(A * B)"
   ]
  },
  {
   "cell_type": "markdown",
   "metadata": {},
   "source": [
    "## Dot Product"
   ]
  },
  {
   "cell_type": "code",
   "execution_count": 12,
   "metadata": {
    "collapsed": false
   },
   "outputs": [
    {
     "name": "stdout",
     "output_type": "stream",
     "text": [
      "(4L, 2L) (2L, 4L)\n",
      "[[ 22  16  10   4]\n",
      " [ 52  38  24  10]\n",
      " [ 82  60  38  16]\n",
      " [112  82  52  22]]\n",
      "[[60 80]\n",
      " [44 60]]\n"
     ]
    }
   ],
   "source": [
    "B = B.T\n",
    "# dot product A.shape = m by n B.shape = n by m\n",
    "print(A.shape, B.shape)\n",
    "print(A.dot(B))\n",
    "\n",
    "# note the order matters, it is not commutative\n",
    "print(np.dot(B, A))"
   ]
  },
  {
   "cell_type": "code",
   "execution_count": 13,
   "metadata": {
    "collapsed": false
   },
   "outputs": [
    {
     "name": "stdout",
     "output_type": "stream",
     "text": [
      "[[5]]\n"
     ]
    }
   ],
   "source": [
    "# dot product of two vectors is a scalar\n",
    "u = v.T\n",
    "print(u.dot(v))"
   ]
  },
  {
   "cell_type": "code",
   "execution_count": 14,
   "metadata": {
    "collapsed": false
   },
   "outputs": [
    {
     "name": "stdout",
     "output_type": "stream",
     "text": [
      "[[14 21]\n",
      " [34 45]\n",
      " [54 69]\n",
      " [74 93]]\n",
      "[[14 21]\n",
      " [34 45]\n",
      " [54 69]\n",
      " [74 93]]\n"
     ]
    }
   ],
   "source": [
    "# dot product is distributive\n",
    "C = np.array([[2,1],[3,4]])\n",
    "D = np.array([[4,2],[1,5]])\n",
    "E = np.array([[5,6],[4,4]])\n",
    "\n",
    "print(np.dot(A, (C + D)))\n",
    "print(np.add(np.dot(A, C), np.dot(A, D)))"
   ]
  },
  {
   "cell_type": "code",
   "execution_count": 15,
   "metadata": {
    "collapsed": false
   },
   "outputs": [
    {
     "name": "stdout",
     "output_type": "stream",
     "text": [
      "[[ 81  90]\n",
      " [184 200]]\n",
      "[[ 81  90]\n",
      " [184 200]]\n"
     ]
    }
   ],
   "source": [
    "# dot product is also associative\n",
    "print(np.dot(C, np.dot(D, E)))\n",
    "print(np.dot(np.dot(C,D), E))"
   ]
  },
  {
   "cell_type": "code",
   "execution_count": 16,
   "metadata": {
    "collapsed": false
   },
   "outputs": [
    {
     "name": "stdout",
     "output_type": "stream",
     "text": [
      "[[ 22  52  82 112]\n",
      " [ 16  38  60  82]\n",
      " [ 10  24  38  52]\n",
      " [  4  10  16  22]]\n",
      "[[ 22  52  82 112]\n",
      " [ 16  38  60  82]\n",
      " [ 10  24  38  52]\n",
      " [  4  10  16  22]]\n"
     ]
    }
   ],
   "source": [
    "## == Transpose of a result of dot product\n",
    "# (A.B).T is equal to (B.T).(A.T)\n",
    "print(np.transpose(A.dot(B)))\n",
    "print(B.T.dot(A.T))"
   ]
  },
  {
   "cell_type": "markdown",
   "metadata": {},
   "source": [
    "### identity matrix"
   ]
  },
  {
   "cell_type": "code",
   "execution_count": 17,
   "metadata": {
    "collapsed": false
   },
   "outputs": [
    {
     "name": "stdout",
     "output_type": "stream",
     "text": [
      "[[ 1.  0.  0.  0.]\n",
      " [ 0.  1.  0.  0.]\n",
      " [ 0.  0.  1.  0.]\n",
      " [ 0.  0.  0.  1.]]\n"
     ]
    }
   ],
   "source": [
    "## identity matrix, a matrix with 1 on diag and 0 else where\n",
    "I = np.eye(4)\n",
    "print(I)"
   ]
  },
  {
   "cell_type": "markdown",
   "metadata": {},
   "source": [
    "## Solve a linear system using linear algebra"
   ]
  },
  {
   "cell_type": "code",
   "execution_count": 18,
   "metadata": {
    "collapsed": false
   },
   "outputs": [
    {
     "name": "stdout",
     "output_type": "stream",
     "text": [
      "[ 4 10 16 22]\n"
     ]
    }
   ],
   "source": [
    "## == Matrix dot vector as linear system\n",
    "# Ax = b\n",
    "x = np.array([2,1])\n",
    "b = np.array([4, 10, 16, 22])\n",
    "print(A.dot(x))"
   ]
  },
  {
   "cell_type": "code",
   "execution_count": 19,
   "metadata": {
    "collapsed": false
   },
   "outputs": [
    {
     "name": "stdout",
     "output_type": "stream",
     "text": [
      "4\n",
      "10\n",
      "16\n",
      "22\n"
     ]
    }
   ],
   "source": [
    "# each row of A dot the vector x, representing a single linear equation\n",
    "for row in A:\n",
    "\tprint(row.dot(x))"
   ]
  },
  {
   "cell_type": "markdown",
   "metadata": {},
   "source": [
    "### Matrix Inversion"
   ]
  },
  {
   "cell_type": "code",
   "execution_count": 20,
   "metadata": {
    "collapsed": false
   },
   "outputs": [
    {
     "name": "stdout",
     "output_type": "stream",
     "text": [
      "[[  1.00000000e+00   1.33226763e-15]\n",
      " [  8.88178420e-16   1.00000000e+00]]\n"
     ]
    }
   ],
   "source": [
    "# A' is a inversion of A, if A'.T dot A = I (the identity)\n",
    "# only square matrices can have strict inverse\n",
    "# use pesudoinverse when matrix is not square \n",
    "from numpy.linalg import inv\n",
    "from numpy.linalg import pinv\n",
    "Ainv = pinv(A)\n",
    "print(Ainv.dot(A))"
   ]
  },
  {
   "cell_type": "code",
   "execution_count": 21,
   "metadata": {
    "collapsed": false
   },
   "outputs": [
    {
     "name": "stdout",
     "output_type": "stream",
     "text": [
      "[ 2.  1.]\n",
      "[2 1]\n"
     ]
    }
   ],
   "source": [
    "# we can solve for x using A' dot b using matrix inverse\n",
    "print(Ainv.dot(b))\n",
    "print(x)"
   ]
  },
  {
   "cell_type": "markdown",
   "metadata": {},
   "source": [
    "### Norm"
   ]
  },
  {
   "cell_type": "code",
   "execution_count": 22,
   "metadata": {
    "collapsed": false
   },
   "outputs": [
    {
     "name": "stdout",
     "output_type": "stream",
     "text": [
      "[ 4 10 16 22]\n",
      "52.0\n",
      "29.2574776767\n",
      "22.0\n",
      "14.2828568571\n",
      "14.2828568571\n"
     ]
    }
   ],
   "source": [
    "from numpy.linalg import norm\n",
    "print(b)\n",
    "\n",
    "# L1 norm: sum of abs values\n",
    "print(norm(b, ord = 1))\n",
    "\n",
    "# L2 norm: euclidean distance from origin\n",
    "print(norm(b, ord = 2))\n",
    "\n",
    "# max norm: the abs of the largested direction\n",
    "print(norm(b, ord = np.inf))\n",
    "\n",
    "# the Frobenius norm of a matrix\n",
    "print(norm(A))\n",
    "print(np.sqrt(sum(A.ravel()**2)))"
   ]
  },
  {
   "cell_type": "markdown",
   "metadata": {},
   "source": [
    "## Eigen Decomposition\n",
    "\n",
    "decompose a square matrix into a set of eigen values and eigen vectors  \n",
    "a vector v is called a eigen vector of matrix M if  \n",
    "+ M dot v = lambda * v\n",
    "\n",
    "where lambda is a scalar value also called the eigen value associated with this eigen vector v\n",
    "\n",
    "the eigen vectors are the columns of V from numpy output"
   ]
  },
  {
   "cell_type": "code",
   "execution_count": 23,
   "metadata": {
    "collapsed": false
   },
   "outputs": [
    {
     "name": "stdout",
     "output_type": "stream",
     "text": [
      "[ 12.26352157  -0.31295623  -4.95056534]\n",
      "[[-0.35906776 -0.51630781 -0.3087166 ]\n",
      " [-0.61078586  0.82168525 -0.58360762]\n",
      " [-0.70569893 -0.24137024  0.75106339]]\n",
      "[-4.40343519 -7.49038559 -8.65435402]\n",
      "[-4.40343519 -7.49038559 -8.65435402]\n"
     ]
    }
   ],
   "source": [
    "from numpy.linalg import eig\n",
    "\n",
    "M = np.array([[1,2,4],[2,3,7],[8,6,3]])\n",
    "\n",
    "# eigen decopose\n",
    "lambdas, V = eig(M)\n",
    "print(lambdas)\n",
    "print(V)\n",
    "print(M.dot(V[:,0]))\n",
    "print(lambdas[0] * V[:,0])"
   ]
  },
  {
   "cell_type": "markdown",
   "metadata": {},
   "source": [
    "another way to look at this decomposition: \n",
    "\n",
    "M = V dot diag(lambdas) dot V'\n",
    "\n",
    "which means we can reconstruct the original matrix M from a matrix V, its inverse and a diagnoal matrix diag(lambdas)"
   ]
  },
  {
   "cell_type": "code",
   "execution_count": 24,
   "metadata": {
    "collapsed": false
   },
   "outputs": [
    {
     "name": "stdout",
     "output_type": "stream",
     "text": [
      "[[1 2 4]\n",
      " [2 3 7]\n",
      " [8 6 3]]\n",
      "[[ 1.  2.  4.]\n",
      " [ 2.  3.  7.]\n",
      " [ 8.  6.  3.]]\n"
     ]
    }
   ],
   "source": [
    "print(M)\n",
    "\n",
    "print(V.dot(np.diag(lambdas)).dot(inv(V)))"
   ]
  },
  {
   "cell_type": "markdown",
   "metadata": {},
   "source": [
    "note not always able to do eigen decomposition on matrices"
   ]
  },
  {
   "cell_type": "code",
   "execution_count": 25,
   "metadata": {
    "collapsed": false
   },
   "outputs": [
    {
     "name": "stdout",
     "output_type": "stream",
     "text": [
      "not possible\n"
     ]
    }
   ],
   "source": [
    "try:\n",
    "\tprint(eig(A))\n",
    "except:\n",
    "\tprint(\"not possible\")"
   ]
  },
  {
   "cell_type": "markdown",
   "metadata": {},
   "source": [
    "## Singular Value Decompose\n",
    "\n",
    "decompose a matrix A (m by n) into three components\n",
    "\n",
    "A = U dot D dot V.T\n",
    "\n",
    "+ U (m by m) eigen vectors of A dot A.T\n",
    "+ D (m by n) only has value on diag, collected into vector s, eigen values of A dot A.T or A.T dot A\n",
    "+ V (n by n) eigen vectors of A.T dot A\n"
   ]
  },
  {
   "cell_type": "code",
   "execution_count": 26,
   "metadata": {
    "collapsed": false
   },
   "outputs": [
    {
     "name": "stdout",
     "output_type": "stream",
     "text": [
      "[[ 1.  2.]\n",
      " [ 3.  4.]\n",
      " [ 5.  6.]\n",
      " [ 7.  8.]]\n"
     ]
    }
   ],
   "source": [
    "from numpy.linalg import svd\n",
    "\n",
    "U, s, VT = svd(A)\n",
    "\n",
    "V = VT.T\n",
    "D = np.zeros((U.shape[0], V.shape[0]))\n",
    "D[:s.size, :s.size] = np.diag(s)\n",
    "\n",
    "print(U.dot(D).dot(V.T))"
   ]
  },
  {
   "cell_type": "markdown",
   "metadata": {},
   "source": [
    "### Moore Penrose pseudo inverse\n",
    "let U, D, V be the singular value decomposition results from A  \n",
    "let D+ be the pseudo inverse of D  \n",
    "then A+ = V dot D+ dot U.T\n",
    "\n",
    "the pseudo inverse of a diag matrix is simply transpose and take reciprocal    "
   ]
  },
  {
   "cell_type": "code",
   "execution_count": 27,
   "metadata": {
    "collapsed": false
   },
   "outputs": [
    {
     "name": "stdout",
     "output_type": "stream",
     "text": [
      "[[ 14.2690955    0.        ]\n",
      " [  0.           0.62682823]\n",
      " [  0.           0.        ]\n",
      " [  0.           0.        ]]\n",
      "[[ 0.07008153  0.          0.          0.        ]\n",
      " [ 0.          1.59533338  0.          0.        ]]\n"
     ]
    }
   ],
   "source": [
    "print(D)\n",
    "print(pinv(D))"
   ]
  },
  {
   "cell_type": "code",
   "execution_count": 28,
   "metadata": {
    "collapsed": false
   },
   "outputs": [
    {
     "name": "stdout",
     "output_type": "stream",
     "text": [
      "[[ -1.00000000e+00  -5.00000000e-01   1.01307851e-15   5.00000000e-01]\n",
      " [  8.50000000e-01   4.50000000e-01   5.00000000e-02  -3.50000000e-01]]\n",
      "[[ -1.00000000e+00  -5.00000000e-01   1.01307851e-15   5.00000000e-01]\n",
      " [  8.50000000e-01   4.50000000e-01   5.00000000e-02  -3.50000000e-01]]\n"
     ]
    }
   ],
   "source": [
    "print(pinv(A))\n",
    "print(V.dot(pinv(D)).dot(U.T))"
   ]
  },
  {
   "cell_type": "markdown",
   "metadata": {},
   "source": [
    "###  Trace\n",
    "trace is the sum of diagonal elemenets of a matrix   \n",
    "it is useful to rewrite some formulas\n"
   ]
  },
  {
   "cell_type": "code",
   "execution_count": 29,
   "metadata": {
    "collapsed": false
   },
   "outputs": [
    {
     "name": "stdout",
     "output_type": "stream",
     "text": [
      "5\n",
      "5\n"
     ]
    }
   ],
   "source": [
    "print(np.trace(A))\n",
    "print(np.sum(np.diag(A)))"
   ]
  },
  {
   "cell_type": "code",
   "execution_count": 30,
   "metadata": {
    "collapsed": false
   },
   "outputs": [
    {
     "name": "stdout",
     "output_type": "stream",
     "text": [
      "14.2828568571\n",
      "14.2828568571\n"
     ]
    }
   ],
   "source": [
    "print(np.sqrt(np.trace(A.dot(A.T))))\n",
    "print(norm(A))"
   ]
  },
  {
   "cell_type": "markdown",
   "metadata": {},
   "source": [
    "### determinant\n",
    "for a square matrix, the determinant is equal to the product of all eigenvalues of a matrix.  \n",
    "the abs value of determinant can be thought as a measure of how much multiplication by the matrix expands or contracts space"
   ]
  },
  {
   "cell_type": "code",
   "execution_count": 31,
   "metadata": {
    "collapsed": false
   },
   "outputs": [
    {
     "name": "stdout",
     "output_type": "stream",
     "text": [
      "19.0\n"
     ]
    }
   ],
   "source": [
    "from numpy.linalg import det\n",
    "print(det(M))"
   ]
  }
 ],
 "metadata": {
  "anaconda-cloud": {},
  "kernelspec": {
   "display_name": "Python [Root]",
   "language": "python",
   "name": "Python [Root]"
  },
  "language_info": {
   "codemirror_mode": {
    "name": "ipython",
    "version": 2
   },
   "file_extension": ".py",
   "mimetype": "text/x-python",
   "name": "python",
   "nbconvert_exporter": "python",
   "pygments_lexer": "ipython2",
   "version": "2.7.12"
  }
 },
 "nbformat": 4,
 "nbformat_minor": 0
}
